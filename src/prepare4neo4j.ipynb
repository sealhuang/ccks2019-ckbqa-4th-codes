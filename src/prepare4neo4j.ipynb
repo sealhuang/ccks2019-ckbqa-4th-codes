{
 "cells": [
  {
   "cell_type": "code",
   "execution_count": null,
   "metadata": {},
   "outputs": [],
   "source": [
    "import csv\n",
    "import json\n",
    "from tqdm import tqdm\n",
    "import pickle"
   ]
  },
  {
   "cell_type": "markdown",
   "metadata": {},
   "source": [
    "Gneerate neo4j files"
   ]
  },
  {
   "cell_type": "code",
   "execution_count": null,
   "metadata": {},
   "outputs": [],
   "source": [
    "def gen_neo4j_file():\n",
    "    \"\"\"generate node and relationship file for neo4j graph.\"\"\"\n",
    "    file = open('raw/pkubase-full-new.txt', 'r', encoding='utf-8').readlines()\n",
    "    print('Load pkubase file')\n",
    "\n",
    "    node_csvf = open('raw/node.csv', 'w', newline='' ,encoding='utf-8')\n",
    "    relation_csvf = open('raw/relation.csv', 'w', newline='', encoding='utf-8')\n",
    "\n",
    "    node_w = csv.writer(node_csvf)\n",
    "    node_w.writerow((\"id:ID\", \"name\", \":LABEL\"))\n",
    "    relation_w = csv.writer(relation_csvf)\n",
    "    relation_w.writerow((\":START_ID\", \":END_ID\", \":TYPE\", \"name\"))\n",
    "    \n",
    "    idx = 0\n",
    "    entity_dic = dict()\n",
    "    print(len(file))\n",
    "\n",
    "    for i in tqdm(range(len(file))):\n",
    "        try:\n",
    "            entity1 = file[i].split('\\t')[0]\n",
    "            if entity1 not in entity_dic:\n",
    "                idx += 1\n",
    "                entity_dic[entity1] = idx\n",
    "                node_w.writerow((str(idx), entity1, 'Entity'))\n",
    "        \n",
    "            entity2 = file[i].split('\\t')[2].rstrip(' .\\n')\n",
    "            if entity2[0]=='\\\"':\n",
    "                entity2 = entity2.strip('\\\"')\n",
    "            if entity2 not in entity_dic:\n",
    "                idx += 1\n",
    "                entity_dic[entity2] = idx\n",
    "                node_w.writerow((str(idx), entity2, 'Entity'))\n",
    "            \n",
    "            relation = file[i].split('\\t')[1]\n",
    "            relation_w.writerow((\n",
    "                str(entity_dic[entity1]),\n",
    "                str(entity_dic[entity2]),\n",
    "                'Relation',\n",
    "                relation)\n",
    "            )\n",
    "            \n",
    "        except:\n",
    "            print(file[i].split('\\t'))\n",
    "\n",
    "    print(len(entity_dic))\n",
    "    node_csvf.close()\n",
    "    relation_csvf.close()\n",
    "    return entity_dic"
   ]
  },
  {
   "cell_type": "code",
   "execution_count": null,
   "metadata": {},
   "outputs": [],
   "source": [
    "entity_dic = gen_neo4j_file()"
   ]
  },
  {
   "cell_type": "markdown",
   "metadata": {},
   "source": [
    "obtain property dictionary"
   ]
  },
  {
   "cell_type": "code",
   "execution_count": null,
   "metadata": {},
   "outputs": [],
   "source": [
    "file = open('raw/pkubase-full-new.txt', 'r', encoding='utf-8').readlines()"
   ]
  },
  {
   "cell_type": "code",
   "execution_count": null,
   "metadata": {},
   "outputs": [],
   "source": [
    "atti_dict = dict()\n",
    "for i in range(1, 31):\n",
    "    atti_dict[i] = {}"
   ]
  },
  {
   "cell_type": "code",
   "execution_count": null,
   "metadata": {},
   "outputs": [],
   "source": [
    "for i in tqdm(range(len(file))):\n",
    "    entity1 = file[i].split('\\t')[0]\n",
    "    entity2 = file[i].split('\\t')[2].rstrip(' .\\n')\n",
    "    try:\n",
    "        if entity1[0]=='\\\"':\n",
    "            entity1 = entity1.strip('\\\"')\n",
    "            atti_dict[len(entity1)][entity1] = ''\n",
    "        if entity2[0]=='\\\"':\n",
    "            entity2 = entity2.strip('\\\"')\n",
    "            atti_dict[len(entity2)][entity2] = ''\n",
    "    except:\n",
    "        continue\n",
    "atti_dict[30]"
   ]
  },
  {
   "cell_type": "code",
   "execution_count": null,
   "metadata": {},
   "outputs": [],
   "source": [
    "atti_dict.keys()"
   ]
  },
  {
   "cell_type": "code",
   "execution_count": null,
   "metadata": {},
   "outputs": [],
   "source": [
    "pickle.dump(atti_dict, open('prop_dict.pkl', 'wb'))"
   ]
  },
  {
   "cell_type": "markdown",
   "metadata": {},
   "source": [
    "obtain type dictionary"
   ]
  },
  {
   "cell_type": "code",
   "execution_count": null,
   "metadata": {},
   "outputs": [],
   "source": [
    "file = open('raw/pkubase-full-new.txt','r',encoding='utf-8').readlines()"
   ]
  },
  {
   "cell_type": "code",
   "execution_count": null,
   "metadata": {},
   "outputs": [],
   "source": [
    "type_dict = {}\n",
    "for i in tqdm(range(len(file))):\n",
    "    line = file[i].split('\\t')\n",
    "    if len(line)==3:\n",
    "        if line[1]=='<类型>':\n",
    "            entity = line[0]\n",
    "            ent_type = line[2].rstrip(' .\\n')\n",
    "            if entity in type_dict:\n",
    "                type_dict[entity].append(ent_type)\n",
    "            else:\n",
    "                type_dict[entity]=[ent_type]"
   ]
  },
  {
   "cell_type": "code",
   "execution_count": null,
   "metadata": {},
   "outputs": [],
   "source": [
    "pickle.dump(type_dict, open('type_dict.pkl','wb'))"
   ]
  },
  {
   "cell_type": "code",
   "execution_count": null,
   "metadata": {},
   "outputs": [],
   "source": [
    "import pickle\n",
    "type_dict = pickle.load(open('type_dict.pkl','rb'))\n",
    "len(type_dict)"
   ]
  },
  {
   "cell_type": "code",
   "execution_count": null,
   "metadata": {},
   "outputs": [],
   "source": [
    "type_dict['<爱利亚的芝诺>']"
   ]
  },
  {
   "cell_type": "code",
   "execution_count": null,
   "metadata": {},
   "outputs": [],
   "source": []
  }
 ],
 "metadata": {
  "hide_input": false,
  "kernelspec": {
   "display_name": "Python 3",
   "language": "python",
   "name": "python3"
  },
  "language_info": {
   "codemirror_mode": {
    "name": "ipython",
    "version": 3
   },
   "file_extension": ".py",
   "mimetype": "text/x-python",
   "name": "python",
   "nbconvert_exporter": "python",
   "pygments_lexer": "ipython3",
   "version": "3.7.3"
  },
  "toc": {
   "base_numbering": 1,
   "nav_menu": {},
   "number_sections": true,
   "sideBar": true,
   "skip_h1_title": false,
   "title_cell": "Table of Contents",
   "title_sidebar": "Contents",
   "toc_cell": false,
   "toc_position": {},
   "toc_section_display": true,
   "toc_window_display": false
  },
  "varInspector": {
   "cols": {
    "lenName": 16,
    "lenType": 16,
    "lenVar": 40
   },
   "kernels_config": {
    "python": {
     "delete_cmd_postfix": "",
     "delete_cmd_prefix": "del ",
     "library": "var_list.py",
     "varRefreshCmd": "print(var_dic_list())"
    },
    "r": {
     "delete_cmd_postfix": ") ",
     "delete_cmd_prefix": "rm(",
     "library": "var_list.r",
     "varRefreshCmd": "cat(var_dic_list()) "
    }
   },
   "types_to_exclude": [
    "module",
    "function",
    "builtin_function_or_method",
    "instance",
    "_Feature"
   ],
   "window_display": false
  }
 },
 "nbformat": 4,
 "nbformat_minor": 2
}
